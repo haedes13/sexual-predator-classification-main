{
  "nbformat": 4,
  "nbformat_minor": 0,
  "metadata": {
    "colab": {
      "provenance": [],
      "authorship_tag": "ABX9TyPBWCFz9kaSN2C7t0EgzG8y"
    },
    "kernelspec": {
      "name": "python3",
      "display_name": "Python 3"
    },
    "language_info": {
      "name": "python"
    }
  },
  "cells": [
    {
      "cell_type": "code",
      "source": [
        "!git clone https://gitlab.com/early-sexual-predator-detection/eSPD-datasets.git"
      ],
      "metadata": {
        "colab": {
          "base_uri": "https://localhost:8080/"
        },
        "id": "ewdXGsBoTgKg",
        "outputId": "6d0608e0-9101-4b94-fafb-27ddbaa83ee1"
      },
      "execution_count": 4,
      "outputs": [
        {
          "output_type": "stream",
          "name": "stdout",
          "text": [
            "Cloning into 'eSPD-datasets'...\n",
            "remote: Enumerating objects: 172, done.\u001b[K\n",
            "remote: Total 172 (delta 0), reused 0 (delta 0), pack-reused 172 (from 1)\u001b[K\n",
            "Receiving objects: 100% (172/172), 440.29 KiB | 8.63 MiB/s, done.\n",
            "Resolving deltas: 100% (85/85), done.\n"
          ]
        }
      ]
    },
    {
      "cell_type": "code",
      "source": [
        "from google.colab import drive"
      ],
      "metadata": {
        "id": "feMfWX60aJyw"
      },
      "execution_count": 6,
      "outputs": []
    },
    {
      "cell_type": "code",
      "source": [
        "drive.mount('/content/drive')"
      ],
      "metadata": {
        "colab": {
          "base_uri": "https://localhost:8080/"
        },
        "id": "JOcRYuQSaM0G",
        "outputId": "a2ce3845-c8c8-4f0e-f359-6a37ead39f73"
      },
      "execution_count": 7,
      "outputs": [
        {
          "output_type": "stream",
          "name": "stdout",
          "text": [
            "Mounted at /content/drive\n"
          ]
        }
      ]
    },
    {
      "cell_type": "code",
      "source": [
        "!cp /content/drive/MyDrive/PAN12/pan12-sexual-predator-identification-groundtruth-problem1.txt /content/eSPD-datasets/PAN12/raw_dataset"
      ],
      "metadata": {
        "id": "4FjOzABUYlZU"
      },
      "execution_count": 8,
      "outputs": []
    },
    {
      "cell_type": "code",
      "source": [
        "!cp /content/drive/MyDrive/PAN12/pan12-sexual-predator-identification-test-corpus-2012-05-17.xml /content/eSPD-datasets/PAN12/raw_dataset"
      ],
      "metadata": {
        "id": "WNf0ELEcYoAD"
      },
      "execution_count": 9,
      "outputs": []
    },
    {
      "cell_type": "code",
      "source": [
        "!cp /content/drive/MyDrive/PAN12/pan12-sexual-predator-identification-training-corpus-2012-05-01.xml /content/eSPD-datasets/PAN12/raw_dataset"
      ],
      "metadata": {
        "id": "a4uVCZyzYpGL"
      },
      "execution_count": 10,
      "outputs": []
    },
    {
      "cell_type": "code",
      "source": [
        "!cp /content/drive/MyDrive/PAN12/pan12-sexual-predator-identification-training-corpus-predators-2012-05-01.txt /content/eSPD-datasets/PAN12/raw_dataset"
      ],
      "metadata": {
        "id": "uylBvKZVYqHN"
      },
      "execution_count": 11,
      "outputs": []
    },
    {
      "cell_type": "code",
      "source": [
        "cd /content/eSPD-datasets"
      ],
      "metadata": {
        "colab": {
          "base_uri": "https://localhost:8080/"
        },
        "id": "mjrm-hf1ZWEz",
        "outputId": "0f64dfe8-2312-47ea-c5cf-424eb446df59"
      },
      "execution_count": 12,
      "outputs": [
        {
          "output_type": "stream",
          "name": "stdout",
          "text": [
            "/content/eSPD-datasets\n"
          ]
        }
      ]
    },
    {
      "cell_type": "code",
      "source": [
        "cd PAN12/raw_dataset/"
      ],
      "metadata": {
        "colab": {
          "base_uri": "https://localhost:8080/"
        },
        "id": "iWdP0lSybmWM",
        "outputId": "36433728-fff2-47b4-844e-60de67eabaea"
      },
      "execution_count": 13,
      "outputs": [
        {
          "output_type": "stream",
          "name": "stdout",
          "text": [
            "/content/eSPD-datasets/PAN12/raw_dataset\n"
          ]
        }
      ]
    },
    {
      "cell_type": "code",
      "source": [
        "!sha256sum -c sha256sum.txt"
      ],
      "metadata": {
        "colab": {
          "base_uri": "https://localhost:8080/"
        },
        "id": "XoQwnAyGbs2h",
        "outputId": "ea9a6bef-50b6-43c4-824a-0a753b0858c9"
      },
      "execution_count": 15,
      "outputs": [
        {
          "output_type": "stream",
          "name": "stdout",
          "text": [
            "pan12-sexual-predator-identification-groundtruth-problem1.txt: OK\n",
            "pan12-sexual-predator-identification-test-corpus-2012-05-17.xml: FAILED\n",
            "pan12-sexual-predator-identification-training-corpus-2012-05-01.xml: FAILED\n",
            "pan12-sexual-predator-identification-training-corpus-predators-2012-05-01.txt: OK\n",
            "sha256sum: WARNING: 2 computed checksums did NOT match\n"
          ]
        }
      ]
    },
    {
      "cell_type": "code",
      "source": [
        "cd .."
      ],
      "metadata": {
        "colab": {
          "base_uri": "https://localhost:8080/"
        },
        "id": "qnSwTz4rb75o",
        "outputId": "8858cae0-21a7-46c5-cd93-69ed916dede8"
      },
      "execution_count": 18,
      "outputs": [
        {
          "output_type": "stream",
          "name": "stdout",
          "text": [
            "/content/eSPD-datasets\n"
          ]
        }
      ]
    },
    {
      "cell_type": "code",
      "source": [
        "!python PAN12/create_datapack.py"
      ],
      "metadata": {
        "colab": {
          "base_uri": "https://localhost:8080/"
        },
        "id": "aX_9f5A-ZTQ0",
        "outputId": "ada3a2e1-19d0-41a7-b268-9447735f7a5d"
      },
      "execution_count": 19,
      "outputs": [
        {
          "output_type": "stream",
          "name": "stdout",
          "text": [
            "\n",
            "---           Arguments           ---\n",
            "          datapackID: PAN12\n",
            "         description: None\n",
            "parsing chat logs for PAN12-train…\n",
            "using train dataset, from the file pan12-sexual-predator-identification-training-corpus-2012-05-01.xml\n",
            "and predIDsPath pan12-sexual-predator-identification-training-corpus-predators-2012-05-01.txt\n",
            "parsing predator list…\n",
            "parsing done!\n",
            "There are 66927 chats\n",
            "There are 903607 messages (14 on average per chat)\n",
            "There are 2015 predator chats (3.01% out of all chats)\n",
            "There are 0 predator messages (0.0% out of all messages)\n",
            "There are 2975 error messages (0.33% out of all messages)\n",
            "Number of messages with \n",
            "    noChatID 0, noMessageLine 0, noAuthor 0, noTime 0, noBodyCount 2975\n",
            "dumping datapack…\n",
            "dumped chats.\n",
            "parsing chat logs for PAN12-test…\n",
            "using test dataset, from the file pan12-sexual-predator-identification-test-corpus-2012-05-17.xml\n",
            "and predIDsPath pan12-sexual-predator-identification-groundtruth-problem1.txt\n",
            "parsing predator list…\n",
            "parsing done!\n",
            "There are 155128 chats\n",
            "There are 2058781 messages (13 on average per chat)\n",
            "There are 3723 predator chats (2.4% out of all chats)\n",
            "There are 0 predator messages (0.0% out of all messages)\n",
            "There are 6453 error messages (0.31% out of all messages)\n",
            "Number of messages with \n",
            "    noChatID 0, noMessageLine 0, noAuthor 0, noTime 0, noBodyCount 6453\n",
            "dumping datapack…\n",
            "dumped chats.\n"
          ]
        }
      ]
    },
    {
      "cell_type": "code",
      "source": [
        "!python create_csv.py --dataset PAN12"
      ],
      "metadata": {
        "colab": {
          "base_uri": "https://localhost:8080/"
        },
        "id": "1kL3miQoZdME",
        "outputId": "365da7a5-f05c-416e-dea0-db7721a46598"
      },
      "execution_count": 20,
      "outputs": [
        {
          "output_type": "stream",
          "name": "stdout",
          "text": [
            "\n",
            "---           Arguments           ---\n",
            "             dataset: PAN12\n",
            "          datapackID: PAN12\n",
            "\n",
            "\n",
            "Successfully wrote all csv files\n"
          ]
        }
      ]
    },
    {
      "cell_type": "code",
      "source": [
        "!ls"
      ],
      "metadata": {
        "colab": {
          "base_uri": "https://localhost:8080/"
        },
        "id": "2-z8sf_MeeD2",
        "outputId": "053bbdad-2ae6-4931-aacd-10dcc215c05a"
      },
      "execution_count": 21,
      "outputs": [
        {
          "output_type": "stream",
          "name": "stdout",
          "text": [
            "ChatCoder2\t  create_csv.py\t\tDynamicArray.py    PAN12\tREADME.md  VTPAN\n",
            "clean.sh\t  create_everything.sh\tget_statistics.py  PANC\t\tr_scripts\n",
            "copy_datasets.sh  do_not_use_data.svg\tLICENSE\t\t   __pycache__\tutil.py\n"
          ]
        }
      ]
    },
    {
      "cell_type": "code",
      "source": [
        "!mv PAN12/csv /content/drive/MyDrive/PAN12/"
      ],
      "metadata": {
        "id": "4wSYnIXBmLrE"
      },
      "execution_count": 22,
      "outputs": []
    }
  ]
}